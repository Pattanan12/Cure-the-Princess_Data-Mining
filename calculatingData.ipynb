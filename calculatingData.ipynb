{
 "cells": [
  {
   "cell_type": "code",
   "execution_count": 67,
   "id": "fda17734",
   "metadata": {},
   "outputs": [
    {
     "name": "stdout",
     "output_type": "stream",
     "text": [
      "Bird Land\n"
     ]
    }
   ],
   "source": [
    "print(\"Bird Land\")"
   ]
  },
  {
   "cell_type": "code",
   "execution_count": 69,
   "id": "16345c61",
   "metadata": {},
   "outputs": [
    {
     "name": "stdout",
     "output_type": "stream",
     "text": [
      "      Phoenix Feather  Unicorn Horn  Dragon's Blood  Mermaid Tears  \\\n",
      "0                 2.4          18.7            18.4           27.9   \n",
      "1                 2.1           6.0            15.0           13.3   \n",
      "2                17.2          13.9            23.8            6.8   \n",
      "3                 8.4           9.7             6.8           26.9   \n",
      "4                22.1          10.8            16.4           10.5   \n",
      "...               ...           ...             ...            ...   \n",
      "2333              9.4           2.2            15.8            5.9   \n",
      "2334             12.1           7.6            20.6            5.3   \n",
      "2335             15.2          33.2             7.2           14.5   \n",
      "2336              2.0          17.0            33.2           13.2   \n",
      "2337              6.2           2.6            11.7           23.8   \n",
      "\n",
      "      Fairy Dust  Goblin Toes  Witch's Brew  Griffin Claw  Troll Hair  \\\n",
      "0            7.9          9.6          18.3          13.2         2.5   \n",
      "1           15.6         13.1          11.0           5.0         7.2   \n",
      "2           10.7         15.8          19.4           2.7        15.4   \n",
      "3            4.6         29.1          14.6          19.7        18.0   \n",
      "4           22.0         23.4           2.6          18.2        23.8   \n",
      "...          ...          ...           ...           ...         ...   \n",
      "2333        29.7         18.7          11.5          13.1        15.3   \n",
      "2334        18.9         19.1           9.4          11.9        21.8   \n",
      "2335        16.0         16.7           1.2          32.5        34.5   \n",
      "2336        29.1         35.5          19.7          30.3        30.7   \n",
      "2337        11.4          7.3          26.4          18.2        14.0   \n",
      "\n",
      "      Kraken Ink  Minotaur Horn  Basilisk Scale  Chimera Fang  Cured  \n",
      "0           26.0           10.5            26.2          12.5      0  \n",
      "1           26.0            1.5            13.3           6.2      0  \n",
      "2           21.2           11.1            16.6          11.4      1  \n",
      "3           20.8           13.6            13.9           8.1      1  \n",
      "4           11.3            5.5            16.8          16.2      0  \n",
      "...          ...            ...             ...           ...    ...  \n",
      "2333        22.5           10.1             4.7          13.8      0  \n",
      "2334        12.0           26.7             8.4          24.4      1  \n",
      "2335        25.9            3.9            18.0          19.2      1  \n",
      "2336         4.3           15.7            20.5           2.1      1  \n",
      "2337        17.1            3.6            21.8           2.5      1  \n",
      "\n",
      "[2338 rows x 14 columns]\n"
     ]
    }
   ],
   "source": [
    "import pandas as pd\n",
    "df = pd.read_csv(r'/Users/pattanankorkiattrakool/Desktop/Mining/data.csv')\n",
    "print(df)"
   ]
  },
  {
   "cell_type": "code",
   "execution_count": 70,
   "id": "c44f0a4a",
   "metadata": {},
   "outputs": [
    {
     "data": {
      "text/html": [
       "<div>\n",
       "<style scoped>\n",
       "    .dataframe tbody tr th:only-of-type {\n",
       "        vertical-align: middle;\n",
       "    }\n",
       "\n",
       "    .dataframe tbody tr th {\n",
       "        vertical-align: top;\n",
       "    }\n",
       "\n",
       "    .dataframe thead th {\n",
       "        text-align: right;\n",
       "    }\n",
       "</style>\n",
       "<table border=\"1\" class=\"dataframe\">\n",
       "  <thead>\n",
       "    <tr style=\"text-align: right;\">\n",
       "      <th></th>\n",
       "      <th>Phoenix Feather</th>\n",
       "      <th>Unicorn Horn</th>\n",
       "      <th>Dragon's Blood</th>\n",
       "      <th>Mermaid Tears</th>\n",
       "      <th>Fairy Dust</th>\n",
       "      <th>Goblin Toes</th>\n",
       "      <th>Witch's Brew</th>\n",
       "      <th>Griffin Claw</th>\n",
       "      <th>Troll Hair</th>\n",
       "      <th>Kraken Ink</th>\n",
       "      <th>Minotaur Horn</th>\n",
       "      <th>Basilisk Scale</th>\n",
       "      <th>Chimera Fang</th>\n",
       "      <th>Cured</th>\n",
       "    </tr>\n",
       "  </thead>\n",
       "  <tbody>\n",
       "    <tr>\n",
       "      <th>0</th>\n",
       "      <td>2.4</td>\n",
       "      <td>18.7</td>\n",
       "      <td>18.4</td>\n",
       "      <td>27.9</td>\n",
       "      <td>7.9</td>\n",
       "      <td>9.6</td>\n",
       "      <td>18.3</td>\n",
       "      <td>13.2</td>\n",
       "      <td>2.5</td>\n",
       "      <td>26.0</td>\n",
       "      <td>10.5</td>\n",
       "      <td>26.2</td>\n",
       "      <td>12.5</td>\n",
       "      <td>0</td>\n",
       "    </tr>\n",
       "    <tr>\n",
       "      <th>1</th>\n",
       "      <td>2.1</td>\n",
       "      <td>6.0</td>\n",
       "      <td>15.0</td>\n",
       "      <td>13.3</td>\n",
       "      <td>15.6</td>\n",
       "      <td>13.1</td>\n",
       "      <td>11.0</td>\n",
       "      <td>5.0</td>\n",
       "      <td>7.2</td>\n",
       "      <td>26.0</td>\n",
       "      <td>1.5</td>\n",
       "      <td>13.3</td>\n",
       "      <td>6.2</td>\n",
       "      <td>0</td>\n",
       "    </tr>\n",
       "    <tr>\n",
       "      <th>2</th>\n",
       "      <td>17.2</td>\n",
       "      <td>13.9</td>\n",
       "      <td>23.8</td>\n",
       "      <td>6.8</td>\n",
       "      <td>10.7</td>\n",
       "      <td>15.8</td>\n",
       "      <td>19.4</td>\n",
       "      <td>2.7</td>\n",
       "      <td>15.4</td>\n",
       "      <td>21.2</td>\n",
       "      <td>11.1</td>\n",
       "      <td>16.6</td>\n",
       "      <td>11.4</td>\n",
       "      <td>1</td>\n",
       "    </tr>\n",
       "    <tr>\n",
       "      <th>3</th>\n",
       "      <td>8.4</td>\n",
       "      <td>9.7</td>\n",
       "      <td>6.8</td>\n",
       "      <td>26.9</td>\n",
       "      <td>4.6</td>\n",
       "      <td>29.1</td>\n",
       "      <td>14.6</td>\n",
       "      <td>19.7</td>\n",
       "      <td>18.0</td>\n",
       "      <td>20.8</td>\n",
       "      <td>13.6</td>\n",
       "      <td>13.9</td>\n",
       "      <td>8.1</td>\n",
       "      <td>1</td>\n",
       "    </tr>\n",
       "    <tr>\n",
       "      <th>4</th>\n",
       "      <td>22.1</td>\n",
       "      <td>10.8</td>\n",
       "      <td>16.4</td>\n",
       "      <td>10.5</td>\n",
       "      <td>22.0</td>\n",
       "      <td>23.4</td>\n",
       "      <td>2.6</td>\n",
       "      <td>18.2</td>\n",
       "      <td>23.8</td>\n",
       "      <td>11.3</td>\n",
       "      <td>5.5</td>\n",
       "      <td>16.8</td>\n",
       "      <td>16.2</td>\n",
       "      <td>0</td>\n",
       "    </tr>\n",
       "    <tr>\n",
       "      <th>...</th>\n",
       "      <td>...</td>\n",
       "      <td>...</td>\n",
       "      <td>...</td>\n",
       "      <td>...</td>\n",
       "      <td>...</td>\n",
       "      <td>...</td>\n",
       "      <td>...</td>\n",
       "      <td>...</td>\n",
       "      <td>...</td>\n",
       "      <td>...</td>\n",
       "      <td>...</td>\n",
       "      <td>...</td>\n",
       "      <td>...</td>\n",
       "      <td>...</td>\n",
       "    </tr>\n",
       "    <tr>\n",
       "      <th>2333</th>\n",
       "      <td>9.4</td>\n",
       "      <td>2.2</td>\n",
       "      <td>15.8</td>\n",
       "      <td>5.9</td>\n",
       "      <td>29.7</td>\n",
       "      <td>18.7</td>\n",
       "      <td>11.5</td>\n",
       "      <td>13.1</td>\n",
       "      <td>15.3</td>\n",
       "      <td>22.5</td>\n",
       "      <td>10.1</td>\n",
       "      <td>4.7</td>\n",
       "      <td>13.8</td>\n",
       "      <td>0</td>\n",
       "    </tr>\n",
       "    <tr>\n",
       "      <th>2334</th>\n",
       "      <td>12.1</td>\n",
       "      <td>7.6</td>\n",
       "      <td>20.6</td>\n",
       "      <td>5.3</td>\n",
       "      <td>18.9</td>\n",
       "      <td>19.1</td>\n",
       "      <td>9.4</td>\n",
       "      <td>11.9</td>\n",
       "      <td>21.8</td>\n",
       "      <td>12.0</td>\n",
       "      <td>26.7</td>\n",
       "      <td>8.4</td>\n",
       "      <td>24.4</td>\n",
       "      <td>1</td>\n",
       "    </tr>\n",
       "    <tr>\n",
       "      <th>2335</th>\n",
       "      <td>15.2</td>\n",
       "      <td>33.2</td>\n",
       "      <td>7.2</td>\n",
       "      <td>14.5</td>\n",
       "      <td>16.0</td>\n",
       "      <td>16.7</td>\n",
       "      <td>1.2</td>\n",
       "      <td>32.5</td>\n",
       "      <td>34.5</td>\n",
       "      <td>25.9</td>\n",
       "      <td>3.9</td>\n",
       "      <td>18.0</td>\n",
       "      <td>19.2</td>\n",
       "      <td>1</td>\n",
       "    </tr>\n",
       "    <tr>\n",
       "      <th>2336</th>\n",
       "      <td>2.0</td>\n",
       "      <td>17.0</td>\n",
       "      <td>33.2</td>\n",
       "      <td>13.2</td>\n",
       "      <td>29.1</td>\n",
       "      <td>35.5</td>\n",
       "      <td>19.7</td>\n",
       "      <td>30.3</td>\n",
       "      <td>30.7</td>\n",
       "      <td>4.3</td>\n",
       "      <td>15.7</td>\n",
       "      <td>20.5</td>\n",
       "      <td>2.1</td>\n",
       "      <td>1</td>\n",
       "    </tr>\n",
       "    <tr>\n",
       "      <th>2337</th>\n",
       "      <td>6.2</td>\n",
       "      <td>2.6</td>\n",
       "      <td>11.7</td>\n",
       "      <td>23.8</td>\n",
       "      <td>11.4</td>\n",
       "      <td>7.3</td>\n",
       "      <td>26.4</td>\n",
       "      <td>18.2</td>\n",
       "      <td>14.0</td>\n",
       "      <td>17.1</td>\n",
       "      <td>3.6</td>\n",
       "      <td>21.8</td>\n",
       "      <td>2.5</td>\n",
       "      <td>1</td>\n",
       "    </tr>\n",
       "  </tbody>\n",
       "</table>\n",
       "<p>2338 rows × 14 columns</p>\n",
       "</div>"
      ],
      "text/plain": [
       "      Phoenix Feather  Unicorn Horn  Dragon's Blood  Mermaid Tears  \\\n",
       "0                 2.4          18.7            18.4           27.9   \n",
       "1                 2.1           6.0            15.0           13.3   \n",
       "2                17.2          13.9            23.8            6.8   \n",
       "3                 8.4           9.7             6.8           26.9   \n",
       "4                22.1          10.8            16.4           10.5   \n",
       "...               ...           ...             ...            ...   \n",
       "2333              9.4           2.2            15.8            5.9   \n",
       "2334             12.1           7.6            20.6            5.3   \n",
       "2335             15.2          33.2             7.2           14.5   \n",
       "2336              2.0          17.0            33.2           13.2   \n",
       "2337              6.2           2.6            11.7           23.8   \n",
       "\n",
       "      Fairy Dust  Goblin Toes  Witch's Brew  Griffin Claw  Troll Hair  \\\n",
       "0            7.9          9.6          18.3          13.2         2.5   \n",
       "1           15.6         13.1          11.0           5.0         7.2   \n",
       "2           10.7         15.8          19.4           2.7        15.4   \n",
       "3            4.6         29.1          14.6          19.7        18.0   \n",
       "4           22.0         23.4           2.6          18.2        23.8   \n",
       "...          ...          ...           ...           ...         ...   \n",
       "2333        29.7         18.7          11.5          13.1        15.3   \n",
       "2334        18.9         19.1           9.4          11.9        21.8   \n",
       "2335        16.0         16.7           1.2          32.5        34.5   \n",
       "2336        29.1         35.5          19.7          30.3        30.7   \n",
       "2337        11.4          7.3          26.4          18.2        14.0   \n",
       "\n",
       "      Kraken Ink  Minotaur Horn  Basilisk Scale  Chimera Fang  Cured  \n",
       "0           26.0           10.5            26.2          12.5      0  \n",
       "1           26.0            1.5            13.3           6.2      0  \n",
       "2           21.2           11.1            16.6          11.4      1  \n",
       "3           20.8           13.6            13.9           8.1      1  \n",
       "4           11.3            5.5            16.8          16.2      0  \n",
       "...          ...            ...             ...           ...    ...  \n",
       "2333        22.5           10.1             4.7          13.8      0  \n",
       "2334        12.0           26.7             8.4          24.4      1  \n",
       "2335        25.9            3.9            18.0          19.2      1  \n",
       "2336         4.3           15.7            20.5           2.1      1  \n",
       "2337        17.1            3.6            21.8           2.5      1  \n",
       "\n",
       "[2338 rows x 14 columns]"
      ]
     },
     "metadata": {},
     "output_type": "display_data"
    }
   ],
   "source": [
    "display(df.head(2338))"
   ]
  },
  {
   "cell_type": "code",
   "execution_count": 71,
   "id": "27067bd2",
   "metadata": {
    "scrolled": true
   },
   "outputs": [
    {
     "name": "stdout",
     "output_type": "stream",
     "text": [
      "Phoenix Feather    1.0\n",
      "Unicorn Horn       1.0\n",
      "Dragon's Blood     1.0\n",
      "Mermaid Tears      1.0\n",
      "Fairy Dust         1.0\n",
      "Goblin Toes        1.0\n",
      "Witch's Brew       1.0\n",
      "Griffin Claw       1.0\n",
      "Troll Hair         1.0\n",
      "Kraken Ink         1.0\n",
      "Minotaur Horn      1.0\n",
      "Basilisk Scale     1.0\n",
      "Chimera Fang       1.0\n",
      "Cured              0.0\n",
      "dtype: float64\n",
      "Phoenix Feather    42.1\n",
      "Unicorn Horn       34.1\n",
      "Dragon's Blood     40.8\n",
      "Mermaid Tears      35.8\n",
      "Fairy Dust         40.4\n",
      "Goblin Toes        37.8\n",
      "Witch's Brew       37.3\n",
      "Griffin Claw       39.4\n",
      "Troll Hair         44.8\n",
      "Kraken Ink         39.5\n",
      "Minotaur Horn      33.7\n",
      "Basilisk Scale     42.0\n",
      "Chimera Fang       37.8\n",
      "Cured               1.0\n",
      "dtype: float64\n",
      "Phoenix Feather    15.365697\n",
      "Unicorn Horn       10.946749\n",
      "Dragon's Blood     16.115654\n",
      "Mermaid Tears      13.627973\n",
      "Fairy Dust         15.069504\n",
      "Goblin Toes        14.157271\n",
      "Witch's Brew       12.328914\n",
      "Griffin Claw       14.911206\n",
      "Troll Hair         16.871685\n",
      "Kraken Ink         14.890590\n",
      "Minotaur Horn      10.916125\n",
      "Basilisk Scale     15.371600\n",
      "Chimera Fang       12.084003\n",
      "Cured               0.496578\n",
      "dtype: float64\n"
     ]
    },
    {
     "data": {
      "text/plain": [
       "<AxesSubplot:>"
      ]
     },
     "execution_count": 71,
     "metadata": {},
     "output_type": "execute_result"
    },
    {
     "data": {
      "image/png": "[encoded data removed]",
      "text/plain": [
       "<Figure size 432x288 with 2 Axes>"
      ]
     },
     "metadata": {
      "needs_background": "light"
     },
     "output_type": "display_data"
    },
    {
     "data": {
      "image/png": "[encoded data removed]",
      "text/plain": [
       "<Figure size 432x288 with 1 Axes>"
      ]
     },
     "metadata": {
      "needs_background": "light"
     },
     "output_type": "display_data"
    },
    {
     "data": {
      "image/png": "[encoded data removed]",
      "text/plain": [
       "<Figure size 432x288 with 1 Axes>"
      ]
     },
     "metadata": {
      "needs_background": "light"
     },
     "output_type": "display_data"
    }
   ],
   "source": [
    "import numpy as np\n",
    "import matplotlib.pyplot as plt\n",
    "df = pd.read_csv(r'/Users/pattanankorkiattrakool/Desktop/Mining/data.csv')\n",
    "\n",
    "print(df.min())\n",
    "print(df.max())\n",
    "print(df.mean())\n",
    "\n",
    "fig, (ax0, ax1) = plt.subplots( 2, 1, sharex=True, constrained_layout=True)\n",
    "ax0.plot(df.min(), label='min')\n",
    "ax1.plot(df.max(), label='max')\n",
    "\n",
    "fig, (ax2) = plt.subplots(1, sharex=True, constrained_layout=True)\n",
    "ax2.plot(df.mean(), label='mean')\n",
    "\n",
    "\n",
    "df.plot()\n",
    "\n"
   ]
  },
  {
   "cell_type": "code",
   "execution_count": 72,
   "id": "876fd83a",
   "metadata": {},
   "outputs": [],
   "source": [
    "import statistics"
   ]
  },
  {
   "cell_type": "code",
   "execution_count": 74,
   "id": "61c35e08",
   "metadata": {},
   "outputs": [
    {
     "ename": "SyntaxError",
     "evalue": "unexpected EOF while parsing (<ipython-input-74-daf57cc5a0ca>, line 1)",
     "output_type": "error",
     "traceback": [
      "\u001b[0;36m  File \u001b[0;32m\"<ipython-input-74-daf57cc5a0ca>\"\u001b[0;36m, line \u001b[0;32m1\u001b[0m\n\u001b[0;31m    print(statistics.mean(str(df))\u001b[0m\n\u001b[0m                                  ^\u001b[0m\n\u001b[0;31mSyntaxError\u001b[0m\u001b[0;31m:\u001b[0m unexpected EOF while parsing\n"
     ]
    }
   ],
   "source": [
    "#print(statistics.mean(str(df))"
   ]
  },
  {
   "cell_type": "code",
   "execution_count": 75,
   "id": "8fa8c38c",
   "metadata": {},
   "outputs": [],
   "source": [
    "df = pd.read_csv (r'/Users/pattanankorkiattrakool/Desktop/Mining/data.csv')\n",
    "df.to_json (r'/Users/pattanankorkiattrakool/Desktop/Mining/dataM.json')"
   ]
  },
  {
   "cell_type": "code",
   "execution_count": 78,
   "id": "607bc050",
   "metadata": {},
   "outputs": [
    {
     "name": "stdout",
     "output_type": "stream",
     "text": [
      "      Phoenix Feather  Unicorn Horn  Dragon's Blood  Mermaid Tears  \\\n",
      "0                 2.4          18.7            18.4           27.9   \n",
      "1                 2.1           6.0            15.0           13.3   \n",
      "2                17.2          13.9            23.8            6.8   \n",
      "3                 8.4           9.7             6.8           26.9   \n",
      "4                22.1          10.8            16.4           10.5   \n",
      "...               ...           ...             ...            ...   \n",
      "2333              9.4           2.2            15.8            5.9   \n",
      "2334             12.1           7.6            20.6            5.3   \n",
      "2335             15.2          33.2             7.2           14.5   \n",
      "2336              2.0          17.0            33.2           13.2   \n",
      "2337              6.2           2.6            11.7           23.8   \n",
      "\n",
      "      Fairy Dust  Goblin Toes  Witch's Brew  Griffin Claw  Troll Hair  \\\n",
      "0            7.9          9.6          18.3          13.2         2.5   \n",
      "1           15.6         13.1          11.0           5.0         7.2   \n",
      "2           10.7         15.8          19.4           2.7        15.4   \n",
      "3            4.6         29.1          14.6          19.7        18.0   \n",
      "4           22.0         23.4           2.6          18.2        23.8   \n",
      "...          ...          ...           ...           ...         ...   \n",
      "2333        29.7         18.7          11.5          13.1        15.3   \n",
      "2334        18.9         19.1           9.4          11.9        21.8   \n",
      "2335        16.0         16.7           1.2          32.5        34.5   \n",
      "2336        29.1         35.5          19.7          30.3        30.7   \n",
      "2337        11.4          7.3          26.4          18.2        14.0   \n",
      "\n",
      "      Kraken Ink  Minotaur Horn  Basilisk Scale  Chimera Fang  Cured  \n",
      "0           26.0           10.5            26.2          12.5      0  \n",
      "1           26.0            1.5            13.3           6.2      0  \n",
      "2           21.2           11.1            16.6          11.4      1  \n",
      "3           20.8           13.6            13.9           8.1      1  \n",
      "4           11.3            5.5            16.8          16.2      0  \n",
      "...          ...            ...             ...           ...    ...  \n",
      "2333        22.5           10.1             4.7          13.8      0  \n",
      "2334        12.0           26.7             8.4          24.4      1  \n",
      "2335        25.9            3.9            18.0          19.2      1  \n",
      "2336         4.3           15.7            20.5           2.1      1  \n",
      "2337        17.1            3.6            21.8           2.5      1  \n",
      "\n",
      "[2338 rows x 14 columns]\n"
     ]
    }
   ],
   "source": [
    "df = pd.read_json(r'/Users/pattanankorkiattrakool/Desktop/Mining/dataM.json')\n",
    "print(df)"
   ]
  },
  {
   "cell_type": "code",
   "execution_count": 83,
   "id": "83a9088d",
   "metadata": {},
   "outputs": [
    {
     "name": "stdout",
     "output_type": "stream",
     "text": [
      "Phoenix Feather    15.365697\n",
      "Unicorn Horn       10.946749\n",
      "Dragon's Blood     16.115654\n",
      "Mermaid Tears      13.627973\n",
      "Fairy Dust         15.069504\n",
      "Goblin Toes        14.157271\n",
      "Witch's Brew       12.328914\n",
      "Griffin Claw       14.911206\n",
      "Troll Hair         16.871685\n",
      "Kraken Ink         14.890590\n",
      "Minotaur Horn      10.916125\n",
      "Basilisk Scale     15.371600\n",
      "Chimera Fang       12.084003\n",
      "Cured               0.496578\n",
      "dtype: float64\n"
     ]
    }
   ],
   "source": [
    "print(df.mean())"
   ]
  },
  {
   "cell_type": "code",
   "execution_count": 84,
   "id": "0bd6266c",
   "metadata": {},
   "outputs": [
    {
     "name": "stdout",
     "output_type": "stream",
     "text": [
      "Phoenix Feather    1.0\n",
      "Unicorn Horn       1.0\n",
      "Dragon's Blood     1.0\n",
      "Mermaid Tears      1.0\n",
      "Fairy Dust         1.0\n",
      "Goblin Toes        1.0\n",
      "Witch's Brew       1.0\n",
      "Griffin Claw       1.0\n",
      "Troll Hair         1.0\n",
      "Kraken Ink         1.0\n",
      "Minotaur Horn      1.0\n",
      "Basilisk Scale     1.0\n",
      "Chimera Fang       1.0\n",
      "Cured              0.0\n",
      "dtype: float64\n"
     ]
    }
   ],
   "source": [
    "print(df.min())"
   ]
  },
  {
   "cell_type": "code",
   "execution_count": 85,
   "id": "bf0ff593",
   "metadata": {},
   "outputs": [
    {
     "name": "stdout",
     "output_type": "stream",
     "text": [
      "Phoenix Feather    42.1\n",
      "Unicorn Horn       34.1\n",
      "Dragon's Blood     40.8\n",
      "Mermaid Tears      35.8\n",
      "Fairy Dust         40.4\n",
      "Goblin Toes        37.8\n",
      "Witch's Brew       37.3\n",
      "Griffin Claw       39.4\n",
      "Troll Hair         44.8\n",
      "Kraken Ink         39.5\n",
      "Minotaur Horn      33.7\n",
      "Basilisk Scale     42.0\n",
      "Chimera Fang       37.8\n",
      "Cured               1.0\n",
      "dtype: float64\n"
     ]
    }
   ],
   "source": [
    "print(df.max())"
   ]
  },
  {
   "cell_type": "code",
   "execution_count": null,
   "id": "a0cfa066",
   "metadata": {},
   "outputs": [],
   "source": []
  }
 ],
 "metadata": {
  "kernelspec": {
   "display_name": "Python 3",
   "language": "python",
   "name": "python3"
  },
  "language_info": {
   "codemirror_mode": {
    "name": "ipython",
    "version": 3
   },
   "file_extension": ".py",
   "mimetype": "text/x-python",
   "name": "python",
   "nbconvert_exporter": "python",
   "pygments_lexer": "ipython3",
   "version": "3.8.8"
  }
 },
 "nbformat": 4,
 "nbformat_minor": 5
}
